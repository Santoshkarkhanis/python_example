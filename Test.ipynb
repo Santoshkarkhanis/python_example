{
 "cells": [
  {
   "cell_type": "code",
   "execution_count": 1,
   "id": "f29db3df-c734-4e67-a47e-2504ac2ee580",
   "metadata": {},
   "outputs": [
    {
     "name": "stdout",
     "output_type": "stream",
     "text": [
      "Hello\n"
     ]
    }
   ],
   "source": [
    "print(\"Hello\")"
   ]
  },
  {
   "cell_type": "code",
   "execution_count": null,
   "id": "c3019daa-ea68-4b10-b8dd-f047b82bb74b",
   "metadata": {},
   "outputs": [],
   "source": []
  },
  {
   "cell_type": "code",
   "execution_count": 3,
   "id": "9ca4b699-edcf-40a8-a960-4c53d90ebb99",
   "metadata": {},
   "outputs": [],
   "source": [
    "x=10"
   ]
  },
  {
   "cell_type": "code",
   "execution_count": 5,
   "id": "4f5e4286-a1b9-492a-85a9-da419da7588d",
   "metadata": {},
   "outputs": [
    {
     "data": {
      "text/plain": [
       "10"
      ]
     },
     "execution_count": 5,
     "metadata": {},
     "output_type": "execute_result"
    }
   ],
   "source": [
    "x"
   ]
  },
  {
   "cell_type": "code",
   "execution_count": 7,
   "id": "4b0da78b-3696-462c-a642-676252fbc7ed",
   "metadata": {},
   "outputs": [],
   "source": [
    "y=\"santosh\""
   ]
  },
  {
   "cell_type": "code",
   "execution_count": 13,
   "id": "885a9eeb-2196-43e8-ae7a-292e5c6c4240",
   "metadata": {},
   "outputs": [
    {
     "data": {
      "text/plain": [
       "str"
      ]
     },
     "execution_count": 13,
     "metadata": {},
     "output_type": "execute_result"
    }
   ],
   "source": [
    "type(y)"
   ]
  },
  {
   "cell_type": "code",
   "execution_count": 11,
   "id": "ca0161cc-c008-4755-a70e-1b19b51e6d14",
   "metadata": {},
   "outputs": [
    {
     "data": {
      "text/plain": [
       "'santosh'"
      ]
     },
     "execution_count": 11,
     "metadata": {},
     "output_type": "execute_result"
    }
   ],
   "source": [
    "y"
   ]
  },
  {
   "cell_type": "code",
   "execution_count": 35,
   "id": "0280e760-55eb-40da-82f2-96495c944909",
   "metadata": {},
   "outputs": [
    {
     "name": "stdout",
     "output_type": "stream",
     "text": [
      "greater than\n"
     ]
    }
   ],
   "source": [
    "if x > 5:\n",
    " print(\"greater than\");\n",
    "else:\n",
    " print(\"less than\");"
   ]
  },
  {
   "cell_type": "code",
   "execution_count": 53,
   "id": "a55ef20c-29b5-450a-9815-d96df9fdfe90",
   "metadata": {},
   "outputs": [
    {
     "name": "stdout",
     "output_type": "stream",
     "text": [
      "0\n",
      "1\n",
      "2\n",
      "3\n",
      "4\n"
     ]
    }
   ],
   "source": [
    "for i in range(5):\n",
    "     print (i)\n"
   ]
  },
  {
   "cell_type": "code",
   "execution_count": 55,
   "id": "2f4e5bf0-b97e-4c27-85cd-f73bb67269e6",
   "metadata": {},
   "outputs": [
    {
     "data": {
      "text/plain": [
       "range(0, 10)"
      ]
     },
     "execution_count": 55,
     "metadata": {},
     "output_type": "execute_result"
    }
   ],
   "source": [
    "range(x)"
   ]
  },
  {
   "cell_type": "code",
   "execution_count": 39,
   "id": "a8de56ce-c6f1-40e7-aee2-51482ead6db1",
   "metadata": {},
   "outputs": [],
   "source": [
    "employee=\"Testing123\""
   ]
  },
  {
   "cell_type": "code",
   "execution_count": 49,
   "id": "91b22a8b-88b0-499f-a556-872a0f616447",
   "metadata": {},
   "outputs": [],
   "source": [
    "t=employee[0:7];"
   ]
  },
  {
   "cell_type": "code",
   "execution_count": 43,
   "id": "f325ada5-8f0a-4330-8e91-f64fb0c557bc",
   "metadata": {},
   "outputs": [
    {
     "data": {
      "text/plain": [
       "slice(0, 7, None)"
      ]
     },
     "execution_count": 43,
     "metadata": {},
     "output_type": "execute_result"
    }
   ],
   "source": [
    "t"
   ]
  },
  {
   "cell_type": "code",
   "execution_count": 51,
   "id": "28cdd15a-2c7c-4f4f-a728-e50c9c011957",
   "metadata": {},
   "outputs": [
    {
     "name": "stdout",
     "output_type": "stream",
     "text": [
      "Testing\n"
     ]
    }
   ],
   "source": [
    "print(t)"
   ]
  },
  {
   "cell_type": "code",
   "execution_count": 57,
   "id": "30894786-5bbf-4ebe-9048-ba2497627ffe",
   "metadata": {},
   "outputs": [
    {
     "data": {
      "text/plain": [
       "'test'"
      ]
     },
     "execution_count": 57,
     "metadata": {},
     "output_type": "execute_result"
    }
   ],
   "source": [
    "#test\n",
    "'''test'''"
   ]
  },
  {
   "cell_type": "code",
   "execution_count": 59,
   "id": "f135834f-7b4b-4160-b8ea-0429b889ee26",
   "metadata": {},
   "outputs": [],
   "source": [
    "x,y,z=10,30,40"
   ]
  },
  {
   "cell_type": "code",
   "execution_count": 61,
   "id": "e55c9cac-d53e-4d1d-b9c5-1d660aea1771",
   "metadata": {},
   "outputs": [
    {
     "data": {
      "text/plain": [
       "30"
      ]
     },
     "execution_count": 61,
     "metadata": {},
     "output_type": "execute_result"
    }
   ],
   "source": [
    "y"
   ]
  },
  {
   "cell_type": "code",
   "execution_count": 63,
   "id": "b737f404-83a7-46db-b463-0ac9101daf97",
   "metadata": {},
   "outputs": [
    {
     "data": {
      "text/plain": [
       "int"
      ]
     },
     "execution_count": 63,
     "metadata": {},
     "output_type": "execute_result"
    }
   ],
   "source": [
    "type(y)"
   ]
  },
  {
   "cell_type": "code",
   "execution_count": 65,
   "id": "5530f24e-4dec-4afe-aa08-3c648a273fea",
   "metadata": {},
   "outputs": [],
   "source": [
    "z=56.347"
   ]
  },
  {
   "cell_type": "code",
   "execution_count": 67,
   "id": "dafd7d7f-219c-403f-ab53-473ac24675c2",
   "metadata": {},
   "outputs": [
    {
     "data": {
      "text/plain": [
       "float"
      ]
     },
     "execution_count": 67,
     "metadata": {},
     "output_type": "execute_result"
    }
   ],
   "source": [
    "type(z)"
   ]
  },
  {
   "cell_type": "code",
   "execution_count": 87,
   "id": "ae207aac-27e9-4c1d-a9c9-a0c66dcfe6d8",
   "metadata": {},
   "outputs": [],
   "source": [
    "dic={\"name\":['santosh','test']}"
   ]
  },
  {
   "cell_type": "code",
   "execution_count": 89,
   "id": "d79464ff-6739-4ad5-ad0a-65e0fdfb2e5c",
   "metadata": {},
   "outputs": [
    {
     "data": {
      "text/plain": [
       "{'name': ['santosh', 'test']}"
      ]
     },
     "execution_count": 89,
     "metadata": {},
     "output_type": "execute_result"
    }
   ],
   "source": [
    "dic"
   ]
  },
  {
   "cell_type": "code",
   "execution_count": 77,
   "id": "e4f40a68-3461-49ad-8f9e-3dd4f9001b99",
   "metadata": {},
   "outputs": [],
   "source": [
    "tes1=[1,2,3,4]"
   ]
  },
  {
   "cell_type": "code",
   "execution_count": 79,
   "id": "f2bf60e6-04dd-4938-b7c7-cb6fa3c4f11a",
   "metadata": {},
   "outputs": [
    {
     "data": {
      "text/plain": [
       "[1, 2, 3, 4]"
      ]
     },
     "execution_count": 79,
     "metadata": {},
     "output_type": "execute_result"
    }
   ],
   "source": [
    "tes1"
   ]
  },
  {
   "cell_type": "code",
   "execution_count": 81,
   "id": "eac8e966-e7aa-4970-a56a-a0c25e9bb54c",
   "metadata": {},
   "outputs": [],
   "source": [
    "test1=(\"1\",\"3\",3,4)"
   ]
  },
  {
   "cell_type": "code",
   "execution_count": 83,
   "id": "1f45b408-ee02-4467-abc0-23c45d8a09b0",
   "metadata": {},
   "outputs": [
    {
     "data": {
      "text/plain": [
       "('1', '3', 3, 4)"
      ]
     },
     "execution_count": 83,
     "metadata": {},
     "output_type": "execute_result"
    }
   ],
   "source": [
    "test1"
   ]
  },
  {
   "cell_type": "code",
   "execution_count": 85,
   "id": "c73396bd-ae6f-4966-a0e9-39156bd34474",
   "metadata": {},
   "outputs": [
    {
     "data": {
      "text/plain": [
       "tuple"
      ]
     },
     "execution_count": 85,
     "metadata": {},
     "output_type": "execute_result"
    }
   ],
   "source": [
    "type(test1)"
   ]
  },
  {
   "cell_type": "code",
   "execution_count": 91,
   "id": "e849096f-3690-4e99-8208-889f24be2044",
   "metadata": {},
   "outputs": [],
   "source": [
    "t1={1,2,3,3,4}"
   ]
  },
  {
   "cell_type": "code",
   "execution_count": 93,
   "id": "8eb35399-0032-4613-9ca9-49c6570ce7a8",
   "metadata": {},
   "outputs": [
    {
     "data": {
      "text/plain": [
       "{1, 2, 3, 4}"
      ]
     },
     "execution_count": 93,
     "metadata": {},
     "output_type": "execute_result"
    }
   ],
   "source": [
    "t1"
   ]
  },
  {
   "cell_type": "code",
   "execution_count": 97,
   "id": "97b3f6a0-206a-416b-a00f-1dfec415944e",
   "metadata": {},
   "outputs": [],
   "source": [
    "listoflist=[[1,[2,3],3,[4,5]]]"
   ]
  },
  {
   "cell_type": "code",
   "execution_count": 99,
   "id": "0e592790-8b47-43e9-bc9f-c632a3e3f8a9",
   "metadata": {},
   "outputs": [
    {
     "data": {
      "text/plain": [
       "[[1, [2, 3], 3, [4, 5]]]"
      ]
     },
     "execution_count": 99,
     "metadata": {},
     "output_type": "execute_result"
    }
   ],
   "source": [
    "listoflistr"
   ]
  },
  {
   "cell_type": "code",
   "execution_count": 101,
   "id": "5f1e4748-e6b9-41f1-9161-4c8f68a5a868",
   "metadata": {},
   "outputs": [],
   "source": [
    "r=3+4j"
   ]
  },
  {
   "cell_type": "code",
   "execution_count": 103,
   "id": "868d8059-39b4-4275-b52e-e35df68c82de",
   "metadata": {},
   "outputs": [
    {
     "data": {
      "text/plain": [
       "(3+4j)"
      ]
     },
     "execution_count": 103,
     "metadata": {},
     "output_type": "execute_result"
    }
   ],
   "source": [
    "r"
   ]
  },
  {
   "cell_type": "code",
   "execution_count": 105,
   "id": "f71a4e90-85f5-4583-9ac1-28deb0b7fd44",
   "metadata": {},
   "outputs": [],
   "source": [
    "j=10"
   ]
  },
  {
   "cell_type": "code",
   "execution_count": 107,
   "id": "f0ff427e-5157-4f55-9eaf-04434ba3a902",
   "metadata": {},
   "outputs": [
    {
     "data": {
      "text/plain": [
       "(3+4j)"
      ]
     },
     "execution_count": 107,
     "metadata": {},
     "output_type": "execute_result"
    }
   ],
   "source": [
    "r"
   ]
  },
  {
   "cell_type": "code",
   "execution_count": 109,
   "id": "eb1de40a-a7a7-4d01-ad3b-686fbf02d75b",
   "metadata": {},
   "outputs": [],
   "source": [
    "str1='''this\n",
    "        is\n",
    "        Santosh'''"
   ]
  },
  {
   "cell_type": "code",
   "execution_count": 111,
   "id": "e7dc00cb-f948-4649-8a7e-ee14cab1d463",
   "metadata": {},
   "outputs": [
    {
     "data": {
      "text/plain": [
       "str"
      ]
     },
     "execution_count": 111,
     "metadata": {},
     "output_type": "execute_result"
    }
   ],
   "source": [
    "str"
   ]
  },
  {
   "cell_type": "code",
   "execution_count": 113,
   "id": "8901be13-1f43-4378-8afc-784c322fbee6",
   "metadata": {},
   "outputs": [
    {
     "data": {
      "text/plain": [
       "'this\\n        is\\n        Santosh'"
      ]
     },
     "execution_count": 113,
     "metadata": {},
     "output_type": "execute_result"
    }
   ],
   "source": [
    "str1"
   ]
  },
  {
   "cell_type": "code",
   "execution_count": 115,
   "id": "851d2d1e-0675-4ff4-85f9-5324b329908d",
   "metadata": {},
   "outputs": [],
   "source": [
    "name,lastname=\"Santosh\",'karkhanis'"
   ]
  },
  {
   "cell_type": "code",
   "execution_count": 117,
   "id": "b23e85bd-5683-43fe-94c0-cceb94fecb08",
   "metadata": {},
   "outputs": [
    {
     "name": "stdout",
     "output_type": "stream",
     "text": [
      "Santosh\n",
      "karkhanis\n"
     ]
    }
   ],
   "source": [
    "print(name+\"\\n\"+lastname)"
   ]
  },
  {
   "cell_type": "code",
   "execution_count": 119,
   "id": "7a0c2adc-9a50-4c44-bb94-81c88c4f6802",
   "metadata": {},
   "outputs": [
    {
     "data": {
      "text/plain": [
       "7"
      ]
     },
     "execution_count": 119,
     "metadata": {},
     "output_type": "execute_result"
    }
   ],
   "source": [
    "len(name)"
   ]
  },
  {
   "cell_type": "code",
   "execution_count": 139,
   "id": "e75576ad-604e-459d-8d28-c3c09a88a11a",
   "metadata": {},
   "outputs": [
    {
     "data": {
      "text/plain": [
       "'Sno'"
      ]
     },
     "execution_count": 139,
     "metadata": {},
     "output_type": "execute_result"
    }
   ],
   "source": [
    "name[-7:-1:2]"
   ]
  },
  {
   "cell_type": "code",
   "execution_count": 141,
   "id": "b1ef5748-50d0-4be3-9087-f9c50b1ef715",
   "metadata": {},
   "outputs": [],
   "source": [
    "T1=\"This is new program\""
   ]
  },
  {
   "cell_type": "code",
   "execution_count": 143,
   "id": "edade514-5d57-43af-9fb1-7614adb7da8c",
   "metadata": {},
   "outputs": [
    {
     "data": {
      "text/plain": [
       "'This Is New Program'"
      ]
     },
     "execution_count": 143,
     "metadata": {},
     "output_type": "execute_result"
    }
   ],
   "source": [
    "T1.title()"
   ]
  },
  {
   "cell_type": "code",
   "execution_count": 145,
   "id": "baeea8e2-936d-4d9c-a820-90419f37584e",
   "metadata": {},
   "outputs": [
    {
     "data": {
      "text/plain": [
       "'THIS IS NEW PROGRAM'"
      ]
     },
     "execution_count": 145,
     "metadata": {},
     "output_type": "execute_result"
    }
   ],
   "source": [
    "T1.upper()"
   ]
  },
  {
   "cell_type": "code",
   "execution_count": 147,
   "id": "c1d13cce-ea1b-493c-a6d9-ba784110dfdb",
   "metadata": {},
   "outputs": [
    {
     "data": {
      "text/plain": [
       "'this\\n        is\\n        Santosh'"
      ]
     },
     "execution_count": 147,
     "metadata": {},
     "output_type": "execute_result"
    }
   ],
   "source": [
    "str1.strip()"
   ]
  },
  {
   "cell_type": "code",
   "execution_count": 151,
   "id": "21632657-08cd-4f48-b357-f19c2f5a2c4a",
   "metadata": {},
   "outputs": [
    {
     "data": {
      "text/plain": [
       "2"
      ]
     },
     "execution_count": 151,
     "metadata": {},
     "output_type": "execute_result"
    }
   ],
   "source": [
    "str1.find(\"is\")"
   ]
  },
  {
   "cell_type": "code",
   "execution_count": 153,
   "id": "7ea3bb6f-6769-4ccf-a7d3-bcda6aaf3c1a",
   "metadata": {},
   "outputs": [
    {
     "data": {
      "text/plain": [
       "'thare\\n        are\\n        Santosh'"
      ]
     },
     "execution_count": 153,
     "metadata": {},
     "output_type": "execute_result"
    }
   ],
   "source": [
    "str1.replace(\"is\",\"are\")"
   ]
  },
  {
   "cell_type": "code",
   "execution_count": 157,
   "id": "2367b41f-a2b0-4825-b608-0227b1c811e5",
   "metadata": {},
   "outputs": [
    {
     "data": {
      "text/plain": [
       "['this', '        is', '        Santosh']"
      ]
     },
     "execution_count": 157,
     "metadata": {},
     "output_type": "execute_result"
    }
   ],
   "source": [
    "str1.split(\"\\n\")"
   ]
  },
  {
   "cell_type": "code",
   "execution_count": 159,
   "id": "1585f5b9-3a12-4c96-8424-a93d08b77312",
   "metadata": {},
   "outputs": [
    {
     "data": {
      "text/plain": [
       "'t\\th\\ti\\ts\\t\\n\\t \\t \\t \\t \\t \\t \\t \\t \\ti\\ts\\t\\n\\t \\t \\t \\t \\t \\t \\t \\t \\tS\\ta\\tn\\tt\\to\\ts\\th'"
      ]
     },
     "execution_count": 159,
     "metadata": {},
     "output_type": "execute_result"
    }
   ],
   "source": [
    "\"\\t\".join(str1)"
   ]
  },
  {
   "cell_type": "code",
   "execution_count": 161,
   "id": "c17c7f97-06c3-4410-a19b-8f2682ff273c",
   "metadata": {},
   "outputs": [],
   "source": [
    "name=\"santosh\""
   ]
  },
  {
   "cell_type": "code",
   "execution_count": 163,
   "id": "2b1d6edb-3661-4337-88e0-8b08def16363",
   "metadata": {},
   "outputs": [],
   "source": [
    "age=25"
   ]
  },
  {
   "cell_type": "code",
   "execution_count": 165,
   "id": "e9eb686b-a808-41bc-90ed-19d5693bc65b",
   "metadata": {},
   "outputs": [
    {
     "name": "stdout",
     "output_type": "stream",
     "text": [
      "my name is santosh and my age is 25 \n"
     ]
    }
   ],
   "source": [
    "print(\"my name is {} and my age is {} \".format(name,age))"
   ]
  },
  {
   "cell_type": "code",
   "execution_count": 3,
   "id": "a133213c-9f35-45dd-9d7a-44918ee7b551",
   "metadata": {},
   "outputs": [],
   "source": [
    "temp={1,2,3,4}"
   ]
  },
  {
   "cell_type": "code",
   "execution_count": 9,
   "id": "8daf46e0-7493-4807-a33a-d7755cf6daa2",
   "metadata": {},
   "outputs": [
    {
     "data": {
      "text/plain": [
       "set"
      ]
     },
     "execution_count": 9,
     "metadata": {},
     "output_type": "execute_result"
    }
   ],
   "source": [
    "type(temp)"
   ]
  },
  {
   "cell_type": "code",
   "execution_count": 11,
   "id": "b5b4a644-f782-4c73-a0ad-7fe9c01712ac",
   "metadata": {},
   "outputs": [
    {
     "data": {
      "text/plain": [
       "[1, 2, 3, 4]"
      ]
     },
     "execution_count": 11,
     "metadata": {},
     "output_type": "execute_result"
    }
   ],
   "source": [
    "list(temp)"
   ]
  },
  {
   "cell_type": "code",
   "execution_count": 13,
   "id": "de49ddee-887e-42ca-8ff4-2875d5f08847",
   "metadata": {},
   "outputs": [
    {
     "data": {
      "text/plain": [
       "(1, 2, 3, 4)"
      ]
     },
     "execution_count": 13,
     "metadata": {},
     "output_type": "execute_result"
    }
   ],
   "source": [
    "tuple(temp)"
   ]
  },
  {
   "cell_type": "code",
   "execution_count": 15,
   "id": "8d7ebd75-cc7d-4746-a0d9-c93224319533",
   "metadata": {},
   "outputs": [
    {
     "data": {
      "text/plain": [
       "set"
      ]
     },
     "execution_count": 15,
     "metadata": {},
     "output_type": "execute_result"
    }
   ],
   "source": [
    "type(temp)"
   ]
  },
  {
   "cell_type": "code",
   "execution_count": 17,
   "id": "63fbd8d7-955e-4002-9506-8577770ff090",
   "metadata": {},
   "outputs": [],
   "source": [
    "x=5\n",
    "x+=2"
   ]
  },
  {
   "cell_type": "code",
   "execution_count": 21,
   "id": "bc011362-ff1e-4428-94f1-25cd50c5069c",
   "metadata": {},
   "outputs": [],
   "source": [
    "x*=6"
   ]
  },
  {
   "cell_type": "code",
   "execution_count": 23,
   "id": "2217bdec-f602-4d3e-9b1d-834badf0affe",
   "metadata": {},
   "outputs": [
    {
     "data": {
      "text/plain": [
       "42"
      ]
     },
     "execution_count": 23,
     "metadata": {},
     "output_type": "execute_result"
    }
   ],
   "source": [
    "x"
   ]
  },
  {
   "cell_type": "code",
   "execution_count": 45,
   "id": "327ce073-8af7-48ed-8d21-aad272d044bc",
   "metadata": {},
   "outputs": [
    {
     "name": "stdout",
     "output_type": "stream",
     "text": [
      "true\n"
     ]
    }
   ],
   "source": [
    "if x<=50 and x==42:\n",
    "  print(\"true\");"
   ]
  },
  {
   "cell_type": "code",
   "execution_count": 51,
   "id": "a65c171e-5f5e-4e90-b374-9ac28583e368",
   "metadata": {},
   "outputs": [
    {
     "name": "stdout",
     "output_type": "stream",
     "text": [
      "greater than 50\n"
     ]
    }
   ],
   "source": [
    "if x>50:\n",
    " print(\"greater than 50\")\n",
    "elif x<40:\n",
    "  print(\"less than 40 \")\n",
    "else:\n",
    "    print (\"in between 40 to 50\")"
   ]
  },
  {
   "cell_type": "code",
   "execution_count": 69,
   "id": "0ee89ffb-bb85-43c8-9ca9-06994bc1b2c9",
   "metadata": {},
   "outputs": [],
   "source": [
    "x=56\n",
    "y=78"
   ]
  },
  {
   "cell_type": "code",
   "execution_count": 76,
   "id": "59b783d5-0893-4e67-826b-71b8c84578a8",
   "metadata": {},
   "outputs": [
    {
     "name": "stdout",
     "output_type": "stream",
     "text": [
      "greater than 50\n",
      "Both greater\n"
     ]
    }
   ],
   "source": [
    "if x>50:\n",
    " print(\"greater than 50\")\n",
    " if y>50:\n",
    "  print(\"Both greater\")\n",
    "elif x<40:\n",
    "  print(\"less than 40 \")\n",
    "else:\n",
    "    print (\"in between 40 to 50\")"
   ]
  },
  {
   "cell_type": "code",
   "execution_count": 82,
   "id": "39d3f2de-a29d-449f-9974-3afc903f13d0",
   "metadata": {},
   "outputs": [],
   "source": [
    "CIBIL=753\n",
    "co=300000"
   ]
  },
  {
   "cell_type": "code",
   "execution_count": 86,
   "id": "36473d55-e6b9-4ec4-a3b3-061185546c4b",
   "metadata": {},
   "outputs": [
    {
     "name": "stdout",
     "output_type": "stream",
     "text": [
      "Approved\n"
     ]
    }
   ],
   "source": [
    "if CIBIL<650 and co< 200000:\n",
    "    print(\"Reject\")\n",
    "elif CIBIL>750 and co>20000:\n",
    "    print(\"Approved\")\n",
    "else:\n",
    "    print(\"Hold\")"
   ]
  },
  {
   "cell_type": "code",
   "execution_count": 121,
   "id": "b0e1454e-a6f7-4d76-a029-6ecf93747c9a",
   "metadata": {},
   "outputs": [
    {
     "name": "stdout",
     "output_type": "stream",
     "text": [
      "1\n",
      "3\n",
      "5\n"
     ]
    }
   ],
   "source": [
    "i=1\n",
    "while i<6:\n",
    "    print(i)\n",
    "    i+=2"
   ]
  },
  {
   "cell_type": "code",
   "execution_count": 115,
   "id": "c65852da-33da-4ab0-b83b-3375f9454967",
   "metadata": {},
   "outputs": [
    {
     "name": "stdout",
     "output_type": "stream",
     "text": [
      "banna\n",
      "apple\n",
      "chiku\n"
     ]
    }
   ],
   "source": [
    "fruits=[\"banna\",\"apple\",\"chiku\",\"orange\"]\n",
    "for i in fruits:\n",
    "   print(i)\n",
    "   if i== \"chiku\":\n",
    "     break"
   ]
  },
  {
   "cell_type": "code",
   "execution_count": 117,
   "id": "8fbae4ec-eee0-4570-9f58-f733ac2e04df",
   "metadata": {},
   "outputs": [
    {
     "name": "stdout",
     "output_type": "stream",
     "text": [
      "Please enter your name santosh\n"
     ]
    }
   ],
   "source": [
    "name=input(\"Please enter your name\")\n"
   ]
  },
  {
   "cell_type": "code",
   "execution_count": 119,
   "id": "62e7f355-e055-4ad8-a78b-9dfb614d51db",
   "metadata": {},
   "outputs": [
    {
     "name": "stdout",
     "output_type": "stream",
     "text": [
      "My name is santosh \n"
     ]
    }
   ],
   "source": [
    "print(\"My name is {} \".format(name))"
   ]
  },
  {
   "cell_type": "code",
   "execution_count": 131,
   "id": "b0ead81a-ecb5-4687-8ffc-f9ec8909a5f8",
   "metadata": {},
   "outputs": [],
   "source": [
    "def myfunction(firstname,lastname):\n",
    " print(\"Function 1\")"
   ]
  },
  {
   "cell_type": "code",
   "execution_count": 137,
   "id": "1010deef-7607-46b6-a1fc-e5a2f9c2fa23",
   "metadata": {},
   "outputs": [
    {
     "name": "stdout",
     "output_type": "stream",
     "text": [
      "Function 1\n"
     ]
    }
   ],
   "source": [
    "myfunction(\"Santosh\",\"k\")"
   ]
  },
  {
   "cell_type": "code",
   "execution_count": 151,
   "id": "23dc3f5b-bb78-478b-a425-20252fb73ab5",
   "metadata": {},
   "outputs": [],
   "source": [
    "def my_function(*name):\n",
    "    print(\"Name\"+name[2])\n",
    "    for i in name:\n",
    "        if i==\"karkhanis\":\n",
    "         print(\"Surname\")"
   ]
  },
  {
   "cell_type": "code",
   "execution_count": 153,
   "id": "49eff2f4-2eca-4548-bc53-1b480ce35d1a",
   "metadata": {},
   "outputs": [
    {
     "name": "stdout",
     "output_type": "stream",
     "text": [
      "Namekarkhanis\n",
      "Surname\n"
     ]
    }
   ],
   "source": [
    "my_function(\"santosh\",\"ashok\",\"karkhanis\")"
   ]
  },
  {
   "cell_type": "code",
   "execution_count": 197,
   "id": "d0338f4f-418a-4117-8055-3522577a2428",
   "metadata": {},
   "outputs": [
    {
     "name": "stdout",
     "output_type": "stream",
     "text": [
      "2\n",
      "3\n",
      "4\n"
     ]
    }
   ],
   "source": [
    "for i in range(1,5):\n",
    "    if(i==1):\n",
    "      continue\n",
    "    print(i)\n",
    "      \n",
    "    "
   ]
  },
  {
   "cell_type": "code",
   "execution_count": 210,
   "id": "f3e3f466-82f5-4338-9c2b-c129abcb0844",
   "metadata": {},
   "outputs": [
    {
     "name": "stdout",
     "output_type": "stream",
     "text": [
      "2\n",
      "3\n",
      "4\n"
     ]
    }
   ],
   "source": [
    "for i in range(1,5):\n",
    "    if(i==1):\n",
    "      pass\n",
    "    else:\n",
    "     print(i)\n",
    "      "
   ]
  },
  {
   "cell_type": "code",
   "execution_count": 212,
   "id": "73b3f1c0-6bb8-4cc4-8f28-5d5192105aea",
   "metadata": {},
   "outputs": [],
   "source": [
    "def powerValue(no,power):\n",
    " print(\"Power is\",no**power)"
   ]
  },
  {
   "cell_type": "code",
   "execution_count": 216,
   "id": "49e9286e-8cf1-4c12-b31a-f4cb5b43140c",
   "metadata": {},
   "outputs": [
    {
     "name": "stdout",
     "output_type": "stream",
     "text": [
      "Power is 256\n"
     ]
    }
   ],
   "source": [
    "powerValue(4,4)"
   ]
  },
  {
   "cell_type": "code",
   "execution_count": 31,
   "id": "e123bb5d-0b9a-477e-994a-a6ced081c340",
   "metadata": {},
   "outputs": [],
   "source": [
    "def calculate_total_price(item_prices,item_quantities):\n",
    "    total=0\n",
    "    for price, quantity in zip(item_prices,item_quantities):\n",
    "        total+= price* quantity\n",
    "        return total"
   ]
  },
  {
   "cell_type": "code",
   "execution_count": 33,
   "id": "7f8f4422-7bed-4360-8eb0-3c567188db0d",
   "metadata": {},
   "outputs": [],
   "source": [
    "price=[10.99,9.78,12.3]"
   ]
  },
  {
   "cell_type": "code",
   "execution_count": 35,
   "id": "62b7eb62-1455-4a4e-a1ce-8cd626ab7c9b",
   "metadata": {},
   "outputs": [],
   "source": [
    "quantity=[1,2,4]"
   ]
  },
  {
   "cell_type": "code",
   "execution_count": 39,
   "id": "3d1f35d0-ac51-4218-805b-29d4741ddf25",
   "metadata": {},
   "outputs": [],
   "source": [
    "totalprice=calculate_total_price(price,quantity)"
   ]
  },
  {
   "cell_type": "code",
   "execution_count": 41,
   "id": "121797d4-a359-46bd-af99-fdac183c6629",
   "metadata": {},
   "outputs": [
    {
     "name": "stdout",
     "output_type": "stream",
     "text": [
      "10.99\n"
     ]
    }
   ],
   "source": [
    "print(totalprice)"
   ]
  },
  {
   "cell_type": "code",
   "execution_count": 43,
   "id": "be50a338-62d3-484d-9a85-b2e0327f294e",
   "metadata": {},
   "outputs": [
    {
     "name": "stdout",
     "output_type": "stream",
     "text": [
      "Error to convert in to Int\n"
     ]
    }
   ],
   "source": [
    "try:\n",
    "    int(\"Santosh\")\n",
    "except ValueError:\n",
    "    print(\"Error to convert in to Int\")"
   ]
  },
  {
   "cell_type": "code",
   "execution_count": 53,
   "id": "660e3a0b-5bcb-4d33-8e88-f4367998aa93",
   "metadata": {},
   "outputs": [
    {
     "name": "stdout",
     "output_type": "stream",
     "text": [
      "this is finally\n"
     ]
    }
   ],
   "source": [
    "try:\n",
    "    x=10/2\n",
    "except NameError:\n",
    "    print(\"Error\")\n",
    "finally:\n",
    "    print(\"this is finally\")"
   ]
  },
  {
   "cell_type": "code",
   "execution_count": 75,
   "id": "4934c4fc-b064-475c-ab9d-f825f1c689f8",
   "metadata": {},
   "outputs": [],
   "source": [
    "def max_min(x):\n",
    "    print(\"Outer\")\n",
    "    def min_x(y):\n",
    "     print(\"inner\")\n",
    "     return x+y\n",
    "    return min_x"
   ]
  },
  {
   "cell_type": "code",
   "execution_count": 77,
   "id": "8f9c1aea-1766-4484-8f9d-20978727c162",
   "metadata": {},
   "outputs": [
    {
     "name": "stdout",
     "output_type": "stream",
     "text": [
      "Outer\n"
     ]
    }
   ],
   "source": [
    "result=max_min(10)"
   ]
  },
  {
   "cell_type": "code",
   "execution_count": 69,
   "id": "2fd8b13b-3bc3-49ab-ba35-ef092120451e",
   "metadata": {},
   "outputs": [
    {
     "name": "stdout",
     "output_type": "stream",
     "text": [
      "19\n"
     ]
    }
   ],
   "source": [
    "print(result)"
   ]
  },
  {
   "cell_type": "code",
   "execution_count": 79,
   "id": "0482594d-99ed-468c-9d29-2d9dc70de9de",
   "metadata": {},
   "outputs": [
    {
     "name": "stdout",
     "output_type": "stream",
     "text": [
      "inner\n"
     ]
    }
   ],
   "source": [
    "result1=result(5)"
   ]
  },
  {
   "cell_type": "code",
   "execution_count": 81,
   "id": "d9f7e415-8704-4cc2-92a1-8854b8887d95",
   "metadata": {},
   "outputs": [
    {
     "data": {
      "text/plain": [
       "15"
      ]
     },
     "execution_count": 81,
     "metadata": {},
     "output_type": "execute_result"
    }
   ],
   "source": [
    "result1"
   ]
  },
  {
   "cell_type": "code",
   "execution_count": 91,
   "id": "69a00b96-d520-44b3-9fff-7254a18fab53",
   "metadata": {},
   "outputs": [],
   "source": [
    "nopower=lambda x,y:x**y"
   ]
  },
  {
   "cell_type": "code",
   "execution_count": 87,
   "id": "c886667b-649c-4eaf-8486-202612999611",
   "metadata": {},
   "outputs": [
    {
     "name": "stdout",
     "output_type": "stream",
     "text": [
      "512\n"
     ]
    }
   ],
   "source": [
    "print(nopower(2,9))"
   ]
  },
  {
   "cell_type": "code",
   "execution_count": 127,
   "id": "58be16a1-dad0-48b2-9629-4664931e02ac",
   "metadata": {},
   "outputs": [],
   "source": [
    "numbers=(4,3,2,1)\n",
    "square=list(map(lambda x:x*2,numbers))"
   ]
  },
  {
   "cell_type": "code",
   "execution_count": 129,
   "id": "2aa5a45d-0825-4de8-84c7-961066142a0a",
   "metadata": {},
   "outputs": [
    {
     "data": {
      "text/plain": [
       "[8, 6, 4, 2]"
      ]
     },
     "execution_count": 129,
     "metadata": {},
     "output_type": "execute_result"
    }
   ],
   "source": [
    "square"
   ]
  },
  {
   "cell_type": "code",
   "execution_count": 133,
   "id": "9975f2ab-8361-4fd1-9caa-8cdf84a40aa1",
   "metadata": {},
   "outputs": [],
   "source": [
    "numbers=(4,3,2,1)\n",
    "mod=list(filter(lambda x:x%2==0,numbers))"
   ]
  },
  {
   "cell_type": "code",
   "execution_count": 135,
   "id": "88429ad9-af72-4a0c-9f86-ec8f0908e20d",
   "metadata": {},
   "outputs": [
    {
     "data": {
      "text/plain": [
       "[4, 2]"
      ]
     },
     "execution_count": 135,
     "metadata": {},
     "output_type": "execute_result"
    }
   ],
   "source": [
    "mod"
   ]
  },
  {
   "cell_type": "code",
   "execution_count": 137,
   "id": "9a52997d-4f9f-442d-b4b8-40bc84031985",
   "metadata": {},
   "outputs": [],
   "source": [
    "numbers=(4,3,2,1)\n",
    "mod=sorted(filter(lambda x:x%2==0,numbers))"
   ]
  },
  {
   "cell_type": "code",
   "execution_count": 139,
   "id": "d042278e-7338-4811-92cc-f04556e3d10e",
   "metadata": {},
   "outputs": [
    {
     "data": {
      "text/plain": [
       "[2, 4]"
      ]
     },
     "execution_count": 139,
     "metadata": {},
     "output_type": "execute_result"
    }
   ],
   "source": [
    "mod"
   ]
  },
  {
   "cell_type": "code",
   "execution_count": 153,
   "id": "b1ed378e-bd17-4295-bc12-b570fb3d6743",
   "metadata": {},
   "outputs": [],
   "source": [
    "numbers=(4,3,2,1)\n",
    "mod=sorted(numbers,key=lambda x:x%2==0)"
   ]
  },
  {
   "cell_type": "code",
   "execution_count": 155,
   "id": "2bc1560b-32e1-457c-acd6-af333a93b069",
   "metadata": {},
   "outputs": [
    {
     "data": {
      "text/plain": [
       "[3, 1, 4, 2]"
      ]
     },
     "execution_count": 155,
     "metadata": {},
     "output_type": "execute_result"
    }
   ],
   "source": [
    "mod"
   ]
  },
  {
   "cell_type": "code",
   "execution_count": 161,
   "id": "815f9f24-b211-4db7-afec-3ca97aa9013e",
   "metadata": {},
   "outputs": [
    {
     "data": {
      "text/plain": [
       "[1, 'two', ['test', 3], 5]"
      ]
     },
     "execution_count": 161,
     "metadata": {},
     "output_type": "execute_result"
    }
   ],
   "source": [
    "mixed_list=[1,'two',[\"test\",3],5]\n",
    "mixed_list"
   ]
  },
  {
   "cell_type": "code",
   "execution_count": 159,
   "id": "b53fc262-ba57-499b-8e5d-ea9c94205dc8",
   "metadata": {},
   "outputs": [
    {
     "data": {
      "text/plain": [
       "5"
      ]
     },
     "execution_count": 159,
     "metadata": {},
     "output_type": "execute_result"
    }
   ],
   "source": [
    "mixed_list[3]"
   ]
  },
  {
   "cell_type": "code",
   "execution_count": 163,
   "id": "8d487c32-e0f9-47df-b676-1b578e1cb780",
   "metadata": {},
   "outputs": [
    {
     "data": {
      "text/plain": [
       "3"
      ]
     },
     "execution_count": 163,
     "metadata": {},
     "output_type": "execute_result"
    }
   ],
   "source": [
    "mixed_list[2][1]"
   ]
  },
  {
   "cell_type": "code",
   "execution_count": 165,
   "id": "ff0b7a54-ef08-48b3-ac6e-c829fb92f324",
   "metadata": {},
   "outputs": [],
   "source": [
    "list1=[2,4,5,2,6,8,9]\n",
    "list2=[1,3,7]"
   ]
  },
  {
   "cell_type": "code",
   "execution_count": 167,
   "id": "dc80f221-b2dc-4b70-b7f9-07d15a6c6c5e",
   "metadata": {},
   "outputs": [],
   "source": [
    "list2.append(7)"
   ]
  },
  {
   "cell_type": "code",
   "execution_count": 169,
   "id": "002e845b-8827-41f3-ac66-39339f3b31a7",
   "metadata": {},
   "outputs": [
    {
     "data": {
      "text/plain": [
       "[1, 3, 7, 7]"
      ]
     },
     "execution_count": 169,
     "metadata": {},
     "output_type": "execute_result"
    }
   ],
   "source": [
    "list2"
   ]
  },
  {
   "cell_type": "code",
   "execution_count": 175,
   "id": "621f352b-c54d-4578-b699-ca54783f4367",
   "metadata": {},
   "outputs": [],
   "source": [
    "list1.extend(list2)"
   ]
  },
  {
   "cell_type": "code",
   "execution_count": 177,
   "id": "20bee636-df1b-40db-ab57-539096a6b1a0",
   "metadata": {},
   "outputs": [
    {
     "data": {
      "text/plain": [
       "[2, 4, 5, 2, 6, 8, 9, 1, 3, 7, 7]"
      ]
     },
     "execution_count": 177,
     "metadata": {},
     "output_type": "execute_result"
    }
   ],
   "source": [
    "list1"
   ]
  },
  {
   "cell_type": "code",
   "execution_count": 183,
   "id": "9937d0c9-63d6-45c6-a026-153cda89deaf",
   "metadata": {},
   "outputs": [],
   "source": [
    "list1.remove(7)"
   ]
  },
  {
   "cell_type": "code",
   "execution_count": 185,
   "id": "2938298b-cf5f-45f1-8075-142bdf923778",
   "metadata": {},
   "outputs": [
    {
     "data": {
      "text/plain": [
       "[2, 4, 5, 2, 6, 8, 9, 1, 3, 7]"
      ]
     },
     "execution_count": 185,
     "metadata": {},
     "output_type": "execute_result"
    }
   ],
   "source": [
    "list1"
   ]
  },
  {
   "cell_type": "code",
   "execution_count": 189,
   "id": "0d246204-1162-41ac-9686-0ab3175d18d7",
   "metadata": {},
   "outputs": [
    {
     "data": {
      "text/plain": [
       "7"
      ]
     },
     "execution_count": 189,
     "metadata": {},
     "output_type": "execute_result"
    }
   ],
   "source": [
    "list1.pop()"
   ]
  },
  {
   "cell_type": "code",
   "execution_count": 191,
   "id": "904d129a-44bf-46d0-8c08-a3122ac1d2d9",
   "metadata": {},
   "outputs": [
    {
     "data": {
      "text/plain": [
       "[2, 4, 5, 2, 6, 8, 9, 1, 3]"
      ]
     },
     "execution_count": 191,
     "metadata": {},
     "output_type": "execute_result"
    }
   ],
   "source": [
    "list1"
   ]
  },
  {
   "cell_type": "code",
   "execution_count": 195,
   "id": "c24bebdd-41c3-486c-918b-22484b7f288d",
   "metadata": {},
   "outputs": [],
   "source": [
    "list1.insert(9,7)"
   ]
  },
  {
   "cell_type": "code",
   "execution_count": 197,
   "id": "75883a7c-fadd-4d78-a209-8ea95f1eff80",
   "metadata": {},
   "outputs": [
    {
     "data": {
      "text/plain": [
       "[2, 4, 5, 2, 6, 8, 9, 1, 3, 7]"
      ]
     },
     "execution_count": 197,
     "metadata": {},
     "output_type": "execute_result"
    }
   ],
   "source": [
    "list1"
   ]
  },
  {
   "cell_type": "code",
   "execution_count": 203,
   "id": "a2020d39-2b74-48dd-a512-748df37f5099",
   "metadata": {},
   "outputs": [
    {
     "data": {
      "text/plain": [
       "10"
      ]
     },
     "execution_count": 203,
     "metadata": {},
     "output_type": "execute_result"
    }
   ],
   "source": [
    "len(list1)"
   ]
  },
  {
   "cell_type": "code",
   "execution_count": 205,
   "id": "f24eea2f-611a-4653-b851-b758011e0d1d",
   "metadata": {},
   "outputs": [
    {
     "data": {
      "text/plain": [
       "True"
      ]
     },
     "execution_count": 205,
     "metadata": {},
     "output_type": "execute_result"
    }
   ],
   "source": [
    "2 in list1"
   ]
  },
  {
   "cell_type": "code",
   "execution_count": 207,
   "id": "0ee5eaaf-b907-4bde-88c5-091a705548d0",
   "metadata": {},
   "outputs": [
    {
     "data": {
      "text/plain": [
       "False"
      ]
     },
     "execution_count": 207,
     "metadata": {},
     "output_type": "execute_result"
    }
   ],
   "source": [
    "10 in list1"
   ]
  },
  {
   "cell_type": "code",
   "execution_count": 209,
   "id": "5fae60ab-614f-45b1-b060-30f57e1326ad",
   "metadata": {},
   "outputs": [],
   "source": [
    "list1.reverse()"
   ]
  },
  {
   "cell_type": "code",
   "execution_count": 211,
   "id": "b014375c-59b2-4240-ad3f-035da184817d",
   "metadata": {},
   "outputs": [
    {
     "data": {
      "text/plain": [
       "[7, 3, 1, 9, 8, 6, 2, 5, 4, 2]"
      ]
     },
     "execution_count": 211,
     "metadata": {},
     "output_type": "execute_result"
    }
   ],
   "source": [
    "list1"
   ]
  },
  {
   "cell_type": "code",
   "execution_count": 213,
   "id": "27fb4638-f1c4-4bf6-8a11-808778c11821",
   "metadata": {},
   "outputs": [],
   "source": [
    "list1.sort()"
   ]
  },
  {
   "cell_type": "code",
   "execution_count": 215,
   "id": "ffe5ad95-0e36-4863-8010-3b1b110c61c7",
   "metadata": {},
   "outputs": [
    {
     "data": {
      "text/plain": [
       "[1, 2, 2, 3, 4, 5, 6, 7, 8, 9]"
      ]
     },
     "execution_count": 215,
     "metadata": {},
     "output_type": "execute_result"
    }
   ],
   "source": [
    "list1"
   ]
  },
  {
   "cell_type": "code",
   "execution_count": 217,
   "id": "7508df77-417e-418b-b49f-679320fa7407",
   "metadata": {},
   "outputs": [
    {
     "data": {
      "text/plain": [
       "2"
      ]
     },
     "execution_count": 217,
     "metadata": {},
     "output_type": "execute_result"
    }
   ],
   "source": [
    "list1.count(2)"
   ]
  },
  {
   "cell_type": "code",
   "execution_count": 219,
   "id": "a7b4a81e-7890-4794-b0e9-347fde05eb5f",
   "metadata": {},
   "outputs": [],
   "source": [
    "copylist=list2.copy()"
   ]
  },
  {
   "cell_type": "code",
   "execution_count": 221,
   "id": "412c80e8-b9a1-41fb-8ea5-9e556a01e9e8",
   "metadata": {},
   "outputs": [
    {
     "data": {
      "text/plain": [
       "[1, 3, 7, 7]"
      ]
     },
     "execution_count": 221,
     "metadata": {},
     "output_type": "execute_result"
    }
   ],
   "source": [
    "copylist"
   ]
  },
  {
   "cell_type": "code",
   "execution_count": 223,
   "id": "56464227-9009-419c-92b8-e98b846912e6",
   "metadata": {},
   "outputs": [],
   "source": [
    "tuple_o=(1,2,3)\n",
    "list3=list(tuple_o)"
   ]
  },
  {
   "cell_type": "code",
   "execution_count": 225,
   "id": "6d03bfe8-3d0b-4fb1-b488-519c2d45e2be",
   "metadata": {},
   "outputs": [
    {
     "data": {
      "text/plain": [
       "[1, 2, 3]"
      ]
     },
     "execution_count": 225,
     "metadata": {},
     "output_type": "execute_result"
    }
   ],
   "source": [
    "list3"
   ]
  },
  {
   "cell_type": "code",
   "execution_count": 227,
   "id": "c5b39742-ee8c-4908-bb45-e7fd7f1fec9d",
   "metadata": {},
   "outputs": [
    {
     "data": {
      "text/plain": [
       "2"
      ]
     },
     "execution_count": 227,
     "metadata": {},
     "output_type": "execute_result"
    }
   ],
   "source": [
    "list3[-2]"
   ]
  },
  {
   "cell_type": "code",
   "execution_count": 229,
   "id": "256012c4-5991-4b1c-855f-cc9c281d03ae",
   "metadata": {},
   "outputs": [
    {
     "data": {
      "text/plain": [
       "1"
      ]
     },
     "execution_count": 229,
     "metadata": {},
     "output_type": "execute_result"
    }
   ],
   "source": [
    "list3[0]"
   ]
  },
  {
   "cell_type": "code",
   "execution_count": 231,
   "id": "3f9d9d59-164f-4cbf-994d-15a71da2dea9",
   "metadata": {},
   "outputs": [
    {
     "data": {
      "text/plain": [
       "[]"
      ]
     },
     "execution_count": 231,
     "metadata": {},
     "output_type": "execute_result"
    }
   ],
   "source": [
    "list1[2:1]"
   ]
  },
  {
   "cell_type": "code",
   "execution_count": 235,
   "id": "aba58ccd-f754-4b8d-914f-6833370514b7",
   "metadata": {},
   "outputs": [
    {
     "data": {
      "text/plain": [
       "[3, 4, 5, 6, 7, 8]"
      ]
     },
     "execution_count": 235,
     "metadata": {},
     "output_type": "execute_result"
    }
   ],
   "source": [
    "list1[3:9]"
   ]
  },
  {
   "cell_type": "code",
   "execution_count": 237,
   "id": "4ba8863e-ba92-45e2-a3a9-194502563510",
   "metadata": {},
   "outputs": [
    {
     "data": {
      "text/plain": [
       "[4, 5, 6]"
      ]
     },
     "execution_count": 237,
     "metadata": {},
     "output_type": "execute_result"
    }
   ],
   "source": [
    "list1[-6:-3]"
   ]
  },
  {
   "cell_type": "code",
   "execution_count": 239,
   "id": "1e765ed8-3e73-4623-a5cf-60cf9a9dcf23",
   "metadata": {},
   "outputs": [
    {
     "data": {
      "text/plain": [
       "[1, 2, 2, 3, 4, 5, 6, 7, 8, 9]"
      ]
     },
     "execution_count": 239,
     "metadata": {},
     "output_type": "execute_result"
    }
   ],
   "source": [
    "list1"
   ]
  },
  {
   "cell_type": "code",
   "execution_count": 241,
   "id": "288bb9cb-7083-482b-ba1a-74f3a99c590a",
   "metadata": {},
   "outputs": [
    {
     "data": {
      "text/plain": [
       "[1, 2, 4, 6, 8]"
      ]
     },
     "execution_count": 241,
     "metadata": {},
     "output_type": "execute_result"
    }
   ],
   "source": [
    "list1[::2]"
   ]
  },
  {
   "cell_type": "code",
   "execution_count": 243,
   "id": "10630552-a731-4566-871c-a0a875a93527",
   "metadata": {},
   "outputs": [
    {
     "data": {
      "text/plain": [
       "[9, 8, 7, 6, 5, 4, 3, 2, 2, 1]"
      ]
     },
     "execution_count": 243,
     "metadata": {},
     "output_type": "execute_result"
    }
   ],
   "source": [
    "list1[::-1]"
   ]
  },
  {
   "cell_type": "code",
   "execution_count": 245,
   "id": "a19cad3c-4e08-4a91-94ef-8dbee85c6a57",
   "metadata": {},
   "outputs": [
    {
     "data": {
      "text/plain": [
       "[1, 3, 7, 7]"
      ]
     },
     "execution_count": 245,
     "metadata": {},
     "output_type": "execute_result"
    }
   ],
   "source": [
    "list2"
   ]
  },
  {
   "cell_type": "code",
   "execution_count": 247,
   "id": "d64b37ba-ba47-4b4e-9a3b-0e82f8c26c29",
   "metadata": {},
   "outputs": [],
   "source": [
    "list2[3:6]=[4,5,6]"
   ]
  },
  {
   "cell_type": "code",
   "execution_count": 249,
   "id": "ff7122f4-d2b8-4629-aabc-e01b993b4c8e",
   "metadata": {},
   "outputs": [
    {
     "data": {
      "text/plain": [
       "[1, 3, 7, 4, 5, 6]"
      ]
     },
     "execution_count": 249,
     "metadata": {},
     "output_type": "execute_result"
    }
   ],
   "source": [
    "list2"
   ]
  },
  {
   "cell_type": "code",
   "execution_count": 253,
   "id": "b68193f5-d494-4c3a-a86e-87c724902637",
   "metadata": {},
   "outputs": [],
   "source": [
    "arrd=[[[1,2,3],[3,4,5]],[[4,5,6],[7,8,9]]]"
   ]
  },
  {
   "cell_type": "code",
   "execution_count": 257,
   "id": "11ca1328-777f-44f5-9095-e182a69be35b",
   "metadata": {},
   "outputs": [
    {
     "data": {
      "text/plain": [
       "9"
      ]
     },
     "execution_count": 257,
     "metadata": {},
     "output_type": "execute_result"
    }
   ],
   "source": [
    "arrd[1][1][2]"
   ]
  },
  {
   "cell_type": "code",
   "execution_count": 267,
   "id": "7d31982d-73fe-430d-a5eb-02ce0b24ba0f",
   "metadata": {},
   "outputs": [],
   "source": [
    "square_even=[x**2 if x%2==0 else x for x in range(6)]"
   ]
  },
  {
   "cell_type": "code",
   "execution_count": 269,
   "id": "8db06961-7c4e-44bb-a460-144f0effd456",
   "metadata": {},
   "outputs": [
    {
     "data": {
      "text/plain": [
       "[0, 1, 4, 3, 16, 5]"
      ]
     },
     "execution_count": 269,
     "metadata": {},
     "output_type": "execute_result"
    }
   ],
   "source": [
    "square_even"
   ]
  },
  {
   "cell_type": "code",
   "execution_count": 271,
   "id": "a0fc06f1-6c2f-47ad-82f4-74ad00f22469",
   "metadata": {},
   "outputs": [],
   "source": [
    "square_even=[x**2 if x%2==0 else x for x in list2]"
   ]
  },
  {
   "cell_type": "code",
   "execution_count": 273,
   "id": "753282a9-f8ac-427b-8b10-ae37ca9204aa",
   "metadata": {},
   "outputs": [
    {
     "data": {
      "text/plain": [
       "[1, 3, 7, 16, 5, 36]"
      ]
     },
     "execution_count": 273,
     "metadata": {},
     "output_type": "execute_result"
    }
   ],
   "source": [
    "square_even"
   ]
  },
  {
   "cell_type": "code",
   "execution_count": 275,
   "id": "a4614b0e-7b3f-4557-bc77-89d36ec542e9",
   "metadata": {},
   "outputs": [],
   "source": [
    "tup1=(1,2,3)\n",
    "tup2=(3,4,6)\n",
    "tup3=tup1+tup2"
   ]
  },
  {
   "cell_type": "code",
   "execution_count": 277,
   "id": "25052293-6a4e-407c-b56b-481ba1270e5f",
   "metadata": {},
   "outputs": [
    {
     "data": {
      "text/plain": [
       "(1, 2, 3, 3, 4, 6)"
      ]
     },
     "execution_count": 277,
     "metadata": {},
     "output_type": "execute_result"
    }
   ],
   "source": [
    "tup3"
   ]
  },
  {
   "cell_type": "code",
   "execution_count": 279,
   "id": "0039b611-70df-48e5-acab-2f874522cd24",
   "metadata": {},
   "outputs": [],
   "source": [
    "tup4=tup2*3"
   ]
  },
  {
   "cell_type": "code",
   "execution_count": 281,
   "id": "a2936b08-912f-4f6d-82ab-0f6aec95cf96",
   "metadata": {},
   "outputs": [
    {
     "data": {
      "text/plain": [
       "(3, 4, 6, 3, 4, 6, 3, 4, 6)"
      ]
     },
     "execution_count": 281,
     "metadata": {},
     "output_type": "execute_result"
    }
   ],
   "source": [
    "tup4"
   ]
  },
  {
   "cell_type": "code",
   "execution_count": 289,
   "id": "f03a82fe-94f4-4938-8fab-ab3c268d0695",
   "metadata": {},
   "outputs": [
    {
     "data": {
      "text/plain": [
       "9"
      ]
     },
     "execution_count": 289,
     "metadata": {},
     "output_type": "execute_result"
    }
   ],
   "source": [
    "len(tup4)"
   ]
  },
  {
   "cell_type": "code",
   "execution_count": 291,
   "id": "2b459261-61e7-41b4-8ee5-0b1ee0e1bbe7",
   "metadata": {},
   "outputs": [
    {
     "data": {
      "text/plain": [
       "False"
      ]
     },
     "execution_count": 291,
     "metadata": {},
     "output_type": "execute_result"
    }
   ],
   "source": [
    "2 in tup4"
   ]
  },
  {
   "cell_type": "code",
   "execution_count": 293,
   "id": "e60e4fe5-5766-48b3-a0b3-2badfec02afc",
   "metadata": {},
   "outputs": [
    {
     "data": {
      "text/plain": [
       "True"
      ]
     },
     "execution_count": 293,
     "metadata": {},
     "output_type": "execute_result"
    }
   ],
   "source": [
    "3 in tup4"
   ]
  },
  {
   "cell_type": "code",
   "execution_count": 5,
   "id": "ef596a42-5a9c-4986-8c42-8f2334882bdb",
   "metadata": {},
   "outputs": [
    {
     "name": "stdout",
     "output_type": "stream",
     "text": [
      "       Date  Temperature  DewPoint  Humidity  Sea Level PressureIn  \\\n",
      "0  1/1/2016         38.0      23.0      52.0                 30.03   \n",
      "1  1/2/2016         36.0      18.0      46.0                 30.02   \n",
      "2  1/3/2016          NaN       NaN      47.0                 29.86   \n",
      "3  1/6/2016         33.0       NaN      35.0                   NaN   \n",
      "4  1/7/2016         39.0      11.0      33.0                 30.28   \n",
      "\n",
      "   VisibilityMiles  WindSpeedMPH   Event  \n",
      "0             10.0           8.0    Rain  \n",
      "1             10.0           7.0   Sunny  \n",
      "2             10.0           8.0    Snow  \n",
      "3             10.0           4.0    Rain  \n",
      "4             10.0           2.0  Cloudy  \n"
     ]
    }
   ],
   "source": [
    "import pandas as pd\n",
    "\n",
    "df= pd.read_csv(\"ny_weather-1.csv\")\n",
    "\n",
    "print(df.head());"
   ]
  },
  {
   "cell_type": "code",
   "execution_count": 7,
   "id": "695cda65-94f6-476e-bfcc-61337cbcc4bf",
   "metadata": {},
   "outputs": [
    {
     "name": "stdout",
     "output_type": "stream",
     "text": [
      "       Temperature   DewPoint   Humidity  Sea Level PressureIn  \\\n",
      "count    11.000000  11.000000  11.000000             11.000000   \n",
      "mean     34.909091  19.818182  49.636364             29.988182   \n",
      "std       5.593828  13.578057  13.124578              0.165277   \n",
      "min      25.000000   4.000000  33.000000             29.780000   \n",
      "25%      33.000000   9.500000  41.500000             29.855000   \n",
      "50%      36.000000  18.000000  47.000000             29.940000   \n",
      "75%      38.500000  26.000000  53.000000             30.095000   \n",
      "max      44.000000  46.000000  77.000000             30.280000   \n",
      "\n",
      "       VisibilityMiles  WindSpeedMPH  \n",
      "count         12.00000     10.000000  \n",
      "mean           9.25000      6.300000  \n",
      "std            1.76455      2.406011  \n",
      "min            4.00000      2.000000  \n",
      "25%            9.75000      4.500000  \n",
      "50%           10.00000      6.500000  \n",
      "75%           10.00000      8.000000  \n",
      "max           10.00000     10.000000  \n"
     ]
    }
   ],
   "source": [
    "print(df.describe());"
   ]
  },
  {
   "cell_type": "code",
   "execution_count": 13,
   "id": "049da212-ae8c-4c8f-92e2-0f976ebb3be2",
   "metadata": {},
   "outputs": [
    {
     "name": "stdout",
     "output_type": "stream",
     "text": [
      "Date                     object\n",
      "Temperature             float64\n",
      "DewPoint                float64\n",
      "Humidity                float64\n",
      "Sea Level PressureIn    float64\n",
      "VisibilityMiles         float64\n",
      "WindSpeedMPH            float64\n",
      "Event                    object\n",
      "dtype: object\n"
     ]
    }
   ],
   "source": [
    "print(df.dtypes);"
   ]
  },
  {
   "cell_type": "code",
   "execution_count": null,
   "id": "3f2f258b-6874-4f1e-9b60-905cd76731cc",
   "metadata": {},
   "outputs": [],
   "source": [
    "print('test')"
   ]
  }
 ],
 "metadata": {
  "kernelspec": {
   "display_name": "Python 3 (ipykernel)",
   "language": "python",
   "name": "python3"
  },
  "language_info": {
   "codemirror_mode": {
    "name": "ipython",
    "version": 3
   },
   "file_extension": ".py",
   "mimetype": "text/x-python",
   "name": "python",
   "nbconvert_exporter": "python",
   "pygments_lexer": "ipython3",
   "version": "3.12.4"
  }
 },
 "nbformat": 4,
 "nbformat_minor": 5
}
